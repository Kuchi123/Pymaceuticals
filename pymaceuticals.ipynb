{
 "cells": [
  {
   "cell_type": "code",
   "execution_count": 88,
   "metadata": {},
   "outputs": [
    {
     "name": "stdout",
     "output_type": "stream",
     "text": [
      "     Mouse ID Drug Regimen   Sex  Age_months  Weight (g)  Timepoint  \\\n",
      "0        k403     Ramicane  Male          21          16          0   \n",
      "1        k403     Ramicane  Male          21          16          5   \n",
      "2        k403     Ramicane  Male          21          16         10   \n",
      "3        k403     Ramicane  Male          21          16         15   \n",
      "4        k403     Ramicane  Male          21          16         20   \n",
      "...       ...          ...   ...         ...         ...        ...   \n",
      "1888     z969     Naftisol  Male           9          30         25   \n",
      "1889     z969     Naftisol  Male           9          30         30   \n",
      "1890     z969     Naftisol  Male           9          30         35   \n",
      "1891     z969     Naftisol  Male           9          30         40   \n",
      "1892     z969     Naftisol  Male           9          30         45   \n",
      "\n",
      "      Tumor Volume (mm3)  Metastatic Sites  \n",
      "0              45.000000                 0  \n",
      "1              38.825898                 0  \n",
      "2              35.014271                 1  \n",
      "3              34.223992                 1  \n",
      "4              32.997729                 1  \n",
      "...                  ...               ...  \n",
      "1888           63.145652                 2  \n",
      "1889           65.841013                 3  \n",
      "1890           69.176246                 4  \n",
      "1891           70.314904                 4  \n",
      "1892           73.867845                 4  \n",
      "\n",
      "[1893 rows x 8 columns]\n"
     ]
    }
   ],
   "source": [
    "import matplotlib.pyplot as plt\n",
    "from matplotlib.pyplot import figure\n",
    "import pandas as pd\n",
    "import scipy.stats as st\n",
    "from scipy.stats import sem\n",
    "import numpy as np\n",
    "study_results = pd.read_csv(\"C:/Users/Sam Kumar/Desktop/Study_Results.csv\")\n",
    "mouse_metadata = pd.read_csv(\"C:/Users/Sam Kumar/Desktop/Mouse_metadata.csv\")\n",
    "df = pd.merge(mouse_metadata, study_results , how = \"inner\")\n",
    "print(df)"
   ]
  },
  {
   "cell_type": "code",
   "execution_count": 89,
   "metadata": {
    "scrolled": true
   },
   "outputs": [
    {
     "name": "stdout",
     "output_type": "stream",
     "text": [
      "249\n"
     ]
    }
   ],
   "source": [
    "x = len(mouse_metadata.index)\n",
    "print(x)\n",
    "# amount of mice"
   ]
  },
  {
   "cell_type": "code",
   "execution_count": 90,
   "metadata": {},
   "outputs": [
    {
     "name": "stdout",
     "output_type": "stream",
     "text": [
      "['g989' 'g989' 'g989' 'g989' 'g989']\n"
     ]
    }
   ],
   "source": [
    "duplicatedata = df.duplicated(subset = ['Mouse ID', 'Timepoint'])\n",
    "print(df[duplicatedata]['Mouse ID'].values)"
   ]
  },
  {
   "cell_type": "code",
   "execution_count": 91,
   "metadata": {},
   "outputs": [
    {
     "name": "stdout",
     "output_type": "stream",
     "text": [
      "     Mouse ID Drug Regimen   Sex  Age_months  Weight (g)  Timepoint  \\\n",
      "0        k403     Ramicane  Male          21          16          0   \n",
      "1        k403     Ramicane  Male          21          16          5   \n",
      "2        k403     Ramicane  Male          21          16         10   \n",
      "3        k403     Ramicane  Male          21          16         15   \n",
      "4        k403     Ramicane  Male          21          16         20   \n",
      "...       ...          ...   ...         ...         ...        ...   \n",
      "1888     z969     Naftisol  Male           9          30         25   \n",
      "1889     z969     Naftisol  Male           9          30         30   \n",
      "1890     z969     Naftisol  Male           9          30         35   \n",
      "1891     z969     Naftisol  Male           9          30         40   \n",
      "1892     z969     Naftisol  Male           9          30         45   \n",
      "\n",
      "      Tumor Volume (mm3)  Metastatic Sites  \n",
      "0              45.000000                 0  \n",
      "1              38.825898                 0  \n",
      "2              35.014271                 1  \n",
      "3              34.223992                 1  \n",
      "4              32.997729                 1  \n",
      "...                  ...               ...  \n",
      "1888           63.145652                 2  \n",
      "1889           65.841013                 3  \n",
      "1890           69.176246                 4  \n",
      "1891           70.314904                 4  \n",
      "1892           73.867845                 4  \n",
      "\n",
      "[1880 rows x 8 columns]\n"
     ]
    }
   ],
   "source": [
    "df = df[df['Mouse ID'] != 'g989']\n",
    "print(df)\n",
    "#dropping duplicates as well as 'g989' row"
   ]
  },
  {
   "cell_type": "code",
   "execution_count": 92,
   "metadata": {},
   "outputs": [
    {
     "name": "stdout",
     "output_type": "stream",
     "text": [
      "248\n"
     ]
    }
   ],
   "source": [
    "mouse_metadata = mouse_metadata[mouse_metadata['Mouse ID'] != 'g989']\n",
    "x = len(mouse_metadata.index)\n",
    "print(x)\n",
    "#new amount of mice"
   ]
  },
  {
   "cell_type": "code",
   "execution_count": 93,
   "metadata": {},
   "outputs": [
    {
     "name": "stdout",
     "output_type": "stream",
     "text": [
      "  Drug Regimen       mean     median        var       sem       std\n",
      "0    Capomulin  40.675741  41.557809  24.947764  0.329346  4.994774\n",
      "1     Ceftamin  52.591172  51.776157  39.290177  0.469821  6.268188\n",
      "2    Infubinol  52.884795  51.820584  43.128684  0.492236  6.567243\n",
      "3     Ketapril  55.235638  53.698743  68.553577  0.603860  8.279709\n",
      "4     Naftisol  54.331565  52.509285  66.173479  0.596466  8.134708\n",
      "5      Placebo  54.033581  52.288934  61.168083  0.581331  7.821003\n",
      "6     Propriva  52.320930  50.446266  43.852013  0.544332  6.622085\n",
      "7     Ramicane  40.216745  40.673236  23.486704  0.320955  4.846308\n",
      "8     Stelasyn  54.233149  52.431737  59.450562  0.573111  7.710419\n",
      "9    Zoniferol  53.236507  51.818479  48.533355  0.516398  6.966589\n"
     ]
    }
   ],
   "source": [
    "df_stats = df.groupby('Drug Regimen')['Tumor Volume (mm3)'].mean().reset_index(name = 'mean')\n",
    "df_stats1 = df.groupby('Drug Regimen')['Tumor Volume (mm3)'].median().reset_index(name = 'median')\n",
    "df_stats2 = df.groupby('Drug Regimen')['Tumor Volume (mm3)'].var().reset_index(name = 'var')\n",
    "df_stats3 = df.groupby('Drug Regimen')['Tumor Volume (mm3)'].sem().reset_index(name = 'sem')\n",
    "df_stats4 = df.groupby('Drug Regimen')['Tumor Volume (mm3)'].std().reset_index(name = 'std')\n",
    "df_stats['median'] = df_stats1['median'].values\n",
    "df_stats['var'] = df_stats2['var'].values\n",
    "df_stats['sem'] = df_stats3['sem'].values\n",
    "df_stats['std'] = df_stats4['std'].values\n",
    "print(df_stats)"
   ]
  },
  {
   "cell_type": "code",
   "execution_count": 94,
   "metadata": {},
   "outputs": [
    {
     "name": "stdout",
     "output_type": "stream",
     "text": [
      "                   mean     median       std        var       sem\n",
      "Drug Regimen                                                     \n",
      "Capomulin     40.675741  41.557809  4.994774  24.947764  0.329346\n",
      "Ceftamin      52.591172  51.776157  6.268188  39.290177  0.469821\n",
      "Infubinol     52.884795  51.820584  6.567243  43.128684  0.492236\n",
      "Ketapril      55.235638  53.698743  8.279709  68.553577  0.603860\n",
      "Naftisol      54.331565  52.509285  8.134708  66.173479  0.596466\n",
      "Placebo       54.033581  52.288934  7.821003  61.168083  0.581331\n",
      "Propriva      52.320930  50.446266  6.622085  43.852013  0.544332\n",
      "Ramicane      40.216745  40.673236  4.846308  23.486704  0.320955\n",
      "Stelasyn      54.233149  52.431737  7.710419  59.450562  0.573111\n",
      "Zoniferol     53.236507  51.818479  6.966589  48.533355  0.516398\n"
     ]
    }
   ],
   "source": [
    "df_stats5 = df.groupby('Drug Regimen')['Tumor Volume (mm3)'].agg(['mean','median',np.std,'var','sem'])\n",
    "print(df_stats5)"
   ]
  },
  {
   "cell_type": "code",
   "execution_count": 95,
   "metadata": {},
   "outputs": [
    {
     "name": "stdout",
     "output_type": "stream",
     "text": [
      "  Drug Regimen  count\n",
      "0    Capomulin     25\n",
      "1     Ceftamin     25\n",
      "2    Infubinol     25\n",
      "3     Ketapril     25\n",
      "4     Naftisol     25\n",
      "5      Placebo     25\n",
      "6     Propriva     24\n",
      "7     Ramicane     25\n",
      "8     Stelasyn     24\n",
      "9    Zoniferol     25\n"
     ]
    },
    {
     "data": {
      "image/png": "[encoded data removed]",
      "text/plain": [
       "<Figure size 432x288 with 1 Axes>"
      ]
     },
     "metadata": {
      "needs_background": "light"
     },
     "output_type": "display_data"
    }
   ],
   "source": [
    "\n",
    "df_bar = mouse_metadata.groupby('Drug Regimen')['Mouse ID'].count().reset_index(name ='count')\n",
    "ax = df_bar.plot(kind = 'bar', title='amount of mouses on each treatment regiment')\n",
    "ax.set_xlabel(\"drug type\")\n",
    "ax.set_ylabel(\"count\")\n",
    "print(df_bar)"
   ]
  },
  {
   "cell_type": "code",
   "execution_count": 96,
   "metadata": {},
   "outputs": [
    {
     "data": {
      "image/png": "[encoded data removed]",
      "text/plain": [
       "<Figure size 432x288 with 1 Axes>"
      ]
     },
     "metadata": {
      "needs_background": "light"
     },
     "output_type": "display_data"
    }
   ],
   "source": [
    "drugs = ['Capomulin','Ceftamin','Infubinol','Ketapril','Naftisol','Placebo'\n",
    "         ,'Propriva','Ramicane','Stelasyn','Zoniferol']\n",
    "count = df_bar['count'].values\n",
    "positions = [0,1,2,3,4,5,6,7,8,9]\n",
    "plt.bar(df_bar['Drug Regimen'].values, count)\n",
    "plt.xticks(positions,drugs, rotation = 45)\n",
    "plt.show()\n"
   ]
  },
  {
   "cell_type": "code",
   "execution_count": 97,
   "metadata": {},
   "outputs": [
    {
     "name": "stdout",
     "output_type": "stream",
     "text": [
      "AxesSubplot(0.260833,0.125;0.503333x0.755)\n"
     ]
    },
    {
     "data": {
      "image/png": "[encoded data removed]",
      "text/plain": [
       "<Figure size 432x288 with 1 Axes>"
      ]
     },
     "metadata": {},
     "output_type": "display_data"
    }
   ],
   "source": [
    "df_3 = df.drop_duplicates(subset = ['Mouse ID'], keep = \"first\", inplace = False)\n",
    "print(df_3.groupby(['Sex']).Sex.count().plot(kind='pie', autopct='%1.1f%%'))\n",
    "\n"
   ]
  },
  {
   "cell_type": "code",
   "execution_count": 98,
   "metadata": {},
   "outputs": [
    {
     "data": {
      "image/png": "[encoded data removed]",
      "text/plain": [
       "<Figure size 432x288 with 1 Axes>"
      ]
     },
     "metadata": {},
     "output_type": "display_data"
    }
   ],
   "source": [
    "\n",
    "labels = 'Male', 'Female'\n",
    "plt.pie(df_3['Sex'].value_counts(), labels = labels, autopct='%1.1f%%')\n",
    "plt.show()"
   ]
  },
  {
   "cell_type": "code",
   "execution_count": 99,
   "metadata": {},
   "outputs": [
    {
     "name": "stdout",
     "output_type": "stream",
     "text": [
      "    Mouse ID Drug Regimen     Sex  Age_months  Weight (g)  Timepoint  \\\n",
      "0       k403     Ramicane    Male          21          16       45.0   \n",
      "1       s185    Capomulin  Female           3          17       45.0   \n",
      "2       x401    Capomulin  Female          16          15       45.0   \n",
      "3       m601    Capomulin    Male          22          17       45.0   \n",
      "4       g791     Ramicane    Male          11          16       45.0   \n",
      "..       ...          ...     ...         ...         ...        ...   \n",
      "243     z314     Stelasyn  Female          21          28        NaN   \n",
      "244     z435     Propriva  Female          12          26        NaN   \n",
      "245     z581    Infubinol  Female          24          25       45.0   \n",
      "246     z795     Naftisol  Female          13          29       45.0   \n",
      "247     z969     Naftisol    Male           9          30       45.0   \n",
      "\n",
      "     Tumor Volume (mm3)  Metastatic Sites  \n",
      "0             22.050126               1.0  \n",
      "1             23.343598               1.0  \n",
      "2             28.484033               0.0  \n",
      "3             28.430964               1.0  \n",
      "4             29.128472               1.0  \n",
      "..                  ...               ...  \n",
      "243                 NaN               NaN  \n",
      "244                 NaN               NaN  \n",
      "245           62.754451               3.0  \n",
      "246           65.741070               3.0  \n",
      "247           73.867845               4.0  \n",
      "\n",
      "[248 rows x 8 columns]\n"
     ]
    }
   ],
   "source": [
    "df_45 = df[df['Timepoint'] == 45]\n",
    "df_next = pd.merge(mouse_metadata, df_45, how = \"left\")\n",
    "print(df_next)"
   ]
  },
  {
   "cell_type": "code",
   "execution_count": 100,
   "metadata": {
    "scrolled": true
   },
   "outputs": [
    {
     "name": "stdout",
     "output_type": "stream",
     "text": [
      "Capomulin 25 percentile :\n",
      "32.37735684\n",
      "IQR:\n",
      "7.781863460000004\n",
      "Capomulin 75 percentile: \n",
      "40.1592203\n",
      "Are there outliers: \n",
      "[] []\n"
     ]
    },
    {
     "name": "stderr",
     "output_type": "stream",
     "text": [
      "<ipython-input-100-53a7940a37d8>:6: SettingWithCopyWarning: \n",
      "A value is trying to be set on a copy of a slice from a DataFrame\n",
      "\n",
      "See the caveats in the documentation: https://pandas.pydata.org/pandas-docs/stable/user_guide/indexing.html#returning-a-view-versus-a-copy\n",
      "  df_capomulin.dropna(subset = [\"Tumor Volume (mm3)\"], inplace=True)\n"
     ]
    },
    {
     "data": {
      "image/png": "[encoded data removed]",
      "text/plain": [
       "<Figure size 432x288 with 1 Axes>"
      ]
     },
     "metadata": {
      "needs_background": "light"
     },
     "output_type": "display_data"
    },
    {
     "name": "stdout",
     "output_type": "stream",
     "text": [
      "Ramicane 25 percentile :\n",
      "32.37735684\n",
      "IQR:\n",
      "7.781863460000004\n",
      "Ramicane 75 percentile: \n",
      "Are there outliers: \n",
      "[] []\n"
     ]
    },
    {
     "name": "stderr",
     "output_type": "stream",
     "text": [
      "<ipython-input-100-53a7940a37d8>:26: SettingWithCopyWarning: \n",
      "A value is trying to be set on a copy of a slice from a DataFrame\n",
      "\n",
      "See the caveats in the documentation: https://pandas.pydata.org/pandas-docs/stable/user_guide/indexing.html#returning-a-view-versus-a-copy\n",
      "  df_ramicane.dropna(subset = [\"Tumor Volume (mm3)\"], inplace=True)\n"
     ]
    },
    {
     "data": {
      "image/png": "[encoded data removed]",
      "text/plain": [
       "<Figure size 432x288 with 1 Axes>"
      ]
     },
     "metadata": {
      "needs_background": "light"
     },
     "output_type": "display_data"
    },
    {
     "name": "stdout",
     "output_type": "stream",
     "text": [
      "Infubinol 25 percentile :\n",
      "62.75445141\n",
      "IQR:\n",
      "4.9311172099999965\n",
      "Infubinol 75 percentile: \n",
      "67.68556862\n",
      "Are there outliers: \n",
      "[] []\n"
     ]
    },
    {
     "name": "stderr",
     "output_type": "stream",
     "text": [
      "<ipython-input-100-53a7940a37d8>:45: SettingWithCopyWarning: \n",
      "A value is trying to be set on a copy of a slice from a DataFrame\n",
      "\n",
      "See the caveats in the documentation: https://pandas.pydata.org/pandas-docs/stable/user_guide/indexing.html#returning-a-view-versus-a-copy\n",
      "  df_infubinol.dropna(subset = [\"Tumor Volume (mm3)\"], inplace=True)\n"
     ]
    },
    {
     "data": {
      "image/png": "[encoded data removed]",
      "text/plain": [
       "<Figure size 432x288 with 1 Axes>"
      ]
     },
     "metadata": {
      "needs_background": "light"
     },
     "output_type": "display_data"
    },
    {
     "name": "stdout",
     "output_type": "stream",
     "text": [
      "Ceftamin 25 percentile :\n",
      "61.43389223\n",
      "IQR:\n",
      "6.093590140000003\n",
      "cefatmin 75 percentile: \n",
      "67.52748237\n",
      "Are there outliers: \n",
      "[] []\n",
      "looks like no outliers\n"
     ]
    },
    {
     "name": "stderr",
     "output_type": "stream",
     "text": [
      "<ipython-input-100-53a7940a37d8>:66: SettingWithCopyWarning: \n",
      "A value is trying to be set on a copy of a slice from a DataFrame\n",
      "\n",
      "See the caveats in the documentation: https://pandas.pydata.org/pandas-docs/stable/user_guide/indexing.html#returning-a-view-versus-a-copy\n",
      "  df_ceftamin.dropna(subset = [\"Tumor Volume (mm3)\"], inplace=True)\n"
     ]
    },
    {
     "data": {
      "image/png": "[encoded data removed]",
      "text/plain": [
       "<Figure size 432x288 with 1 Axes>"
      ]
     },
     "metadata": {
      "needs_background": "light"
     },
     "output_type": "display_data"
    }
   ],
   "source": [
    "df_45 = df[df['Timepoint'] == 45]\n",
    "df_next = pd.merge(mouse_metadata, df_45, how = \"left\")\n",
    "list1 = list(df_next['Drug Regimen'].unique())\n",
    "list2 = list(df_next['Tumor Volume (mm3)'].unique())\n",
    "df_capomulin = df_next[df_next['Drug Regimen'] == 'Capomulin']\n",
    "df_capomulin.dropna(subset = [\"Tumor Volume (mm3)\"], inplace=True)\n",
    "print(\"Capomulin 25 percentile :\")\n",
    "x = st.scoreatpercentile(df_capomulin['Tumor Volume (mm3)'],25)\n",
    "print(x)\n",
    "print(\"IQR:\")\n",
    "y = st.iqr(df_capomulin['Tumor Volume (mm3)'])\n",
    "print(y)\n",
    "print(\"Capomulin 75 percentile: \")\n",
    "z = st.scoreatpercentile(df_capomulin['Tumor Volume (mm3)'],75)\n",
    "print(z)\n",
    "a = x - 1.5*y\n",
    "b = z +1.5*y\n",
    "df_minoutlier = df_capomulin[df_capomulin['Tumor Volume (mm3)'] < a]\n",
    "df_maxoutlier = df_capomulin[df_capomulin['Tumor Volume (mm3)'] > b]\n",
    "print(\"Are there outliers: \")\n",
    "print(df_minoutlier.values, df_maxoutlier.values)\n",
    "graph4= plt.boxplot(df_capomulin['Tumor Volume (mm3)'].values)\n",
    "plt.ylabel(\"Tumor Volume (mm3) capomulin treatment\")\n",
    "plt.show()\n",
    "df_ramicane = df_next[df_next['Drug Regimen'] == 'Ramicane']\n",
    "df_ramicane.dropna(subset = [\"Tumor Volume (mm3)\"], inplace=True)\n",
    "print(\"Ramicane 25 percentile :\")\n",
    "x = st.scoreatpercentile(df_capomulin['Tumor Volume (mm3)'],25)\n",
    "print(x)\n",
    "print(\"IQR:\")\n",
    "y = st.iqr(df_capomulin['Tumor Volume (mm3)'])\n",
    "print(y)\n",
    "print(\"Ramicane 75 percentile: \")\n",
    "z = st.scoreatpercentile(df_ramicane['Tumor Volume (mm3)'],75)\n",
    "a = x - 1.5*y\n",
    "b = z +1.5*y\n",
    "df_minoutlier = df_ramicane[df_ramicane['Tumor Volume (mm3)'] < a]\n",
    "df_maxoutlier = df_ramicane[df_ramicane['Tumor Volume (mm3)'] > b]\n",
    "print(\"Are there outliers: \")\n",
    "print(df_minoutlier.values, df_maxoutlier.values)\n",
    "graph3 = plt.boxplot(df_ramicane['Tumor Volume (mm3)'].values)\n",
    "plt.ylabel(\"Tumor Volume (mm3) Ramicane treatment\")\n",
    "plt.show()\n",
    "df_infubinol = df_next[df_next['Drug Regimen'] == 'Infubinol']\n",
    "df_infubinol.dropna(subset = [\"Tumor Volume (mm3)\"], inplace=True)\n",
    "print(\"Infubinol 25 percentile :\")\n",
    "x = st.scoreatpercentile(df_infubinol['Tumor Volume (mm3)'],25)\n",
    "print(x)\n",
    "print(\"IQR:\")\n",
    "y = st.iqr(df_infubinol['Tumor Volume (mm3)'])\n",
    "print(y)\n",
    "print(\"Infubinol 75 percentile: \")\n",
    "z = st.scoreatpercentile(df_infubinol['Tumor Volume (mm3)'],75)\n",
    "print(z)\n",
    "\n",
    "a = x - 1.5*y\n",
    "b = z +1.5*y\n",
    "df_minoutlier = df_infubinol[df_infubinol['Tumor Volume (mm3)'] < a]\n",
    "df_maxoutlier = df_infubinol[df_infubinol['Tumor Volume (mm3)'] > b]\n",
    "print(\"Are there outliers: \")\n",
    "print(df_minoutlier.values, df_maxoutlier.values)\n",
    "graph1 = plt.boxplot(df_infubinol['Tumor Volume (mm3)'].values)\n",
    "plt.ylabel(\"Tumor Volume (mm3) infubinol treatment\")\n",
    "plt.show()\n",
    "df_ceftamin = df_next[df_next['Drug Regimen'] == 'Ceftamin']\n",
    "df_ceftamin.dropna(subset = [\"Tumor Volume (mm3)\"], inplace=True)\n",
    "print(\"Ceftamin 25 percentile :\")\n",
    "x = st.scoreatpercentile(df_ceftamin['Tumor Volume (mm3)'],25)\n",
    "print(x)\n",
    "print(\"IQR:\")\n",
    "y = st.iqr(df_ceftamin['Tumor Volume (mm3)'])\n",
    "print(y)\n",
    "print(\"cefatmin 75 percentile: \")\n",
    "z = st.scoreatpercentile(df_ceftamin['Tumor Volume (mm3)'],75)\n",
    "print(z)\n",
    "a = x - 1.5*y\n",
    "b = z +1.5*y\n",
    "df_minoutlier = df_ceftamin[df_ceftamin['Tumor Volume (mm3)'] < a]\n",
    "df_maxoutlier = df_ceftamin[df_ceftamin['Tumor Volume (mm3)'] > b]\n",
    "print(\"Are there outliers: \")\n",
    "print(df_minoutlier.values, df_maxoutlier.values)\n",
    "print(\"looks like no outliers\")\n",
    "graph2 = plt.boxplot(df_ceftamin['Tumor Volume (mm3)'].values)\n",
    "plt.ylabel(\"Tumor Volume (mm3) capomulin treatment\")\n",
    "plt.show()"
   ]
  },
  {
   "cell_type": "code",
   "execution_count": 101,
   "metadata": {},
   "outputs": [
    {
     "data": {
      "image/png": "[encoded data removed]",
      "text/plain": [
       "<Figure size 432x288 with 1 Axes>"
      ]
     },
     "metadata": {
      "needs_background": "light"
     },
     "output_type": "display_data"
    }
   ],
   "source": [
    "x = [0, 5, 10, 15, 20 , 25 ,30, 35, 40, 45]\n",
    "list3 = list(df['Tumor Volume (mm3)'].head(10).values)\n",
    "plt.plot(x,list3)\n",
    "plt.xlabel(\"Timepoint\")\n",
    "plt.ylabel(\"Tumor Volume (mm3) capomulin treatment\")\n",
    "plt.show()"
   ]
  },
  {
   "cell_type": "code",
   "execution_count": 102,
   "metadata": {},
   "outputs": [
    {
     "data": {
      "image/png": "[encoded data removed]",
      "text/plain": [
       "<Figure size 432x288 with 1 Axes>"
      ]
     },
     "metadata": {
      "needs_background": "light"
     },
     "output_type": "display_data"
    }
   ],
   "source": [
    "scattervar2 = list(df_capomulin['Tumor Volume (mm3)'].values)\n",
    "scattervar1 = list(df_capomulin['Weight (g)'].values)\n",
    "plt.scatter(scattervar1, scattervar2)\n",
    "plt.xlabel(\"Weight (g)\")\n",
    "plt.ylabel(\"Tumor Volume (mm3)\")\n",
    "plt.show()"
   ]
  },
  {
   "cell_type": "code",
   "execution_count": 103,
   "metadata": {},
   "outputs": [
    {
     "name": "stdout",
     "output_type": "stream",
     "text": [
      "correlation: \n",
      "0.8490719078173734\n"
     ]
    }
   ],
   "source": [
    "print(\"correlation: \")\n",
    "print(st.pearsonr(scattervar1, scattervar2)[0])"
   ]
  },
  {
   "cell_type": "code",
   "execution_count": null,
   "metadata": {},
   "outputs": [],
   "source": []
  }
 ],
 "metadata": {
  "kernelspec": {
   "display_name": "Python 3",
   "language": "python",
   "name": "python3"
  },
  "language_info": {
   "codemirror_mode": {
    "name": "ipython",
    "version": 3
   },
   "file_extension": ".py",
   "mimetype": "text/x-python",
   "name": "python",
   "nbconvert_exporter": "python",
   "pygments_lexer": "ipython3",
   "version": "3.8.5"
  }
 },
 "nbformat": 4,
 "nbformat_minor": 4
}
